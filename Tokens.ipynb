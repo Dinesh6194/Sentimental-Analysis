{
 "cells": [
  {
   "cell_type": "code",
   "execution_count": 1,
   "metadata": {},
   "outputs": [
    {
     "name": "stderr",
     "output_type": "stream",
     "text": [
      "Loading required package: NLP\n",
      "\n",
      "Attaching package: ‘dplyr’\n",
      "\n",
      "The following objects are masked from ‘package:plyr’:\n",
      "\n",
      "    arrange, count, desc, failwith, id, mutate, rename, summarise,\n",
      "    summarize\n",
      "\n",
      "The following objects are masked from ‘package:stats’:\n",
      "\n",
      "    filter, lag\n",
      "\n",
      "The following objects are masked from ‘package:base’:\n",
      "\n",
      "    intersect, setdiff, setequal, union\n",
      "\n"
     ]
    }
   ],
   "source": [
    "library(tm)\n",
    "library(plyr)\n",
    "library('stringr')\n",
    "library('dplyr')\n",
    "library(tidytext)"
   ]
  },
  {
   "cell_type": "code",
   "execution_count": 2,
   "metadata": {},
   "outputs": [],
   "source": [
    "data <- read.csv('train_data.csv',stringsAsFactors = FALSE)\n",
    "label <- read.csv('train_label.csv',stringsAsFactors = FALSE)"
   ]
  },
  {
   "cell_type": "code",
   "execution_count": 3,
   "metadata": {},
   "outputs": [],
   "source": [
    "head_data <- head(data,25000)"
   ]
  },
  {
   "cell_type": "code",
   "execution_count": 4,
   "metadata": {},
   "outputs": [],
   "source": [
    "head_label <- head(label, 25000)"
   ]
  },
  {
   "cell_type": "code",
   "execution_count": 5,
   "metadata": {},
   "outputs": [],
   "source": [
    "reviews <- data.frame(trn_id=head_data$trn_id,\n",
    "                       text=head_data$text)"
   ]
  },
  {
   "cell_type": "code",
   "execution_count": 6,
   "metadata": {},
   "outputs": [],
   "source": [
    "reviews <- mutate(reviews, text = gsub(x = text, pattern = \"[0-9]+|[[:punct:]]|\\\\(.*\\\\)\", replacement = \"\"))"
   ]
  },
  {
   "cell_type": "code",
   "execution_count": 7,
   "metadata": {},
   "outputs": [
    {
     "data": {
      "text/html": [
       "<ol class=list-inline>\n",
       "\t<li>25000</li>\n",
       "\t<li>2</li>\n",
       "</ol>\n"
      ],
      "text/latex": [
       "\\begin{enumerate*}\n",
       "\\item 25000\n",
       "\\item 2\n",
       "\\end{enumerate*}\n"
      ],
      "text/markdown": [
       "1. 25000\n",
       "2. 2\n",
       "\n",
       "\n"
      ],
      "text/plain": [
       "[1] 25000     2"
      ]
     },
     "metadata": {},
     "output_type": "display_data"
    }
   ],
   "source": [
    "dim(reviews)"
   ]
  },
  {
   "cell_type": "code",
   "execution_count": 8,
   "metadata": {},
   "outputs": [],
   "source": [
    "reviews %>% unnest_tokens(tokens, text, token = \"words\") %>%\n",
    " group_by(trn_id)  %>% summarise(tokens=paste(tokens, collapse=\",\")) -> test"
   ]
  },
  {
   "cell_type": "code",
   "execution_count": 9,
   "metadata": {},
   "outputs": [
    {
     "data": {
      "text/html": [
       "<table>\n",
       "<thead><tr><th scope=col>trn_id</th><th scope=col>tokens</th></tr></thead>\n",
       "<tbody>\n",
       "\t<tr><td>trn_1                                                                                                                                                                                                                                                                                                                                                                                                                                                                                                                                                                                                                                                                                                     </td><td>well,this,place,got,me,to,write,my,first,review,with,all,the,yelp,reviews,i,figured,it,would,be,a,good,taco,spot,so,my,wife,and,i,decided,to,stop,by,usually,a,place,that,has,that,price,range,like,puesto,in,san,diego,or,several,taco,food,trucks,in,la,they,have,amazing,tacos,maybe,it,was,a,bad,day,but,the,steak,and,the,chicken,tacos,i,had,were,way,over,cooked,and,honestly,only,tasted,like,the,sauce,you,chose,to,put,on,in,the,add,on,for,rice,and,beans,were,dollars,which,got,you,a,ketchup,cup,of,each,lol,my,wifes,tacos,were,a,little,bit,better,though,the,corn,tortillas,werent,the,greatest,either                                                                                    </td></tr>\n",
       "\t<tr><td>trn_10                                                                                                                                                                                                                                                                                                                                                                                                                                                                                                                                                                                                                                                                                                    </td><td>very,limited,menu,compared,to,regular,steak,n,shake,restaurants,and,restaurant,was,really,dirty,gross,never,going,again                                                                                                                                                                                                                                                                                                                                                                                                                                                                                                                                                                                   </td></tr>\n",
       "\t<tr><td>trn_100                                                                                                                                                                                                                                                                                                                                                                                                                                                                                                                                                                                                                                                                                                   </td><td>dont,be,fooled,by,the,entrance,this,place,is,quite,spacey,great,for,groups,for,ayce,dinner,off,if,you,pay,cah,my,favorite,items,here,are,sashimi,and,short,ribs,place,was,not,very,crowded,so,service,was,quick,and,efficient,oh,ya,and,they,got,chocolate,ice,cream,overall,nice,place,for,ayce,dinner                                                                                                                                                                                                                                                                                                                                                                                                   </td></tr>\n",
       "\t<tr><td>trn_1000                                                                                                                                                                                                                                                                                                                                                                                                                                                                                                                                                                                                                                                                                                  </td><td>we,had,outdoor,seating,which,was,really,hot,good,vibe,the,guy,talian,breadsticks,were,so,good                                                                                                                                                                                                                                                                                                                                                                                                                                                                                                                                                                                                             </td></tr>\n",
       "\t<tr><td>trn_10000                                                                                                                                                                                                                                                                                                                                                                                                                                                                                                                                                                                                                                                                                                 </td><td>had,a,great,couple,massage,located,in,a,cute,little,house,libby,and,emily,were,fantastic,thank,you,very,much,definitely,worth,the,visit,if,youre,debating,on,a,spa,try,carmel,day,spa,and,saloon,they,provide,a,lot,of,other,services,like,hair,nails,and,spa,stuff,im,a,guy,so,im,not,sure,about,those,services,not,sure,about,the,other,reviews,but,we,had,a,great,experience                                                                                                                                                                                                                                                                                                                           </td></tr>\n",
       "\t<tr><td>trn_10001                                                                                                                                                                                                                                                                                                                                                                                                                                                                                                                                                                                                                                                                                                 </td><td>dr,wingard,has,been,my,primary,for,about,years,since,my,original,doctor,went,concierge,dr,wingard,is,top,notch,in,my,book,compared,to,most,doctors,in,las,vegas,he,knows,me,by,name,and,actually,listens,to,my,problemssymptoms,without,rushing,me,through,the,appointment,not,one,time,did,i,ever,leave,without,having,everything,addressed,even,when,i,asked,what,i,believed,was,a,stupid,question,he,made,me,feel,comfortable,and,better,informed,he,has,never,set,me,up,with,unnecessary,tests,and,i,never,felt,ripped,off,he,is,very,knowledgeable,and,up,to,date,the,only,downside,is,that,unless,its,an,emergency,appointments,can,take,weeks,but,unfortunately,thats,the,state,of,healthcare,today</td></tr>\n",
       "</tbody>\n",
       "</table>\n"
      ],
      "text/latex": [
       "\\begin{tabular}{r|ll}\n",
       " trn\\_id & tokens\\\\\n",
       "\\hline\n",
       "\t trn\\_1                                                                                                                                                                                                                                                                                                                                                                                                                                                                                                                                                                                                                                                                                                    & well,this,place,got,me,to,write,my,first,review,with,all,the,yelp,reviews,i,figured,it,would,be,a,good,taco,spot,so,my,wife,and,i,decided,to,stop,by,usually,a,place,that,has,that,price,range,like,puesto,in,san,diego,or,several,taco,food,trucks,in,la,they,have,amazing,tacos,maybe,it,was,a,bad,day,but,the,steak,and,the,chicken,tacos,i,had,were,way,over,cooked,and,honestly,only,tasted,like,the,sauce,you,chose,to,put,on,in,the,add,on,for,rice,and,beans,were,dollars,which,got,you,a,ketchup,cup,of,each,lol,my,wifes,tacos,were,a,little,bit,better,though,the,corn,tortillas,werent,the,greatest,either                                                                                    \\\\\n",
       "\t trn\\_10                                                                                                                                                                                                                                                                                                                                                                                                                                                                                                                                                                                                                                                                                                   & very,limited,menu,compared,to,regular,steak,n,shake,restaurants,and,restaurant,was,really,dirty,gross,never,going,again                                                                                                                                                                                                                                                                                                                                                                                                                                                                                                                                                                                   \\\\\n",
       "\t trn\\_100                                                                                                                                                                                                                                                                                                                                                                                                                                                                                                                                                                                                                                                                                                  & dont,be,fooled,by,the,entrance,this,place,is,quite,spacey,great,for,groups,for,ayce,dinner,off,if,you,pay,cah,my,favorite,items,here,are,sashimi,and,short,ribs,place,was,not,very,crowded,so,service,was,quick,and,efficient,oh,ya,and,they,got,chocolate,ice,cream,overall,nice,place,for,ayce,dinner                                                                                                                                                                                                                                                                                                                                                                                                   \\\\\n",
       "\t trn\\_1000                                                                                                                                                                                                                                                                                                                                                                                                                                                                                                                                                                                                                                                                                                 & we,had,outdoor,seating,which,was,really,hot,good,vibe,the,guy,talian,breadsticks,were,so,good                                                                                                                                                                                                                                                                                                                                                                                                                                                                                                                                                                                                             \\\\\n",
       "\t trn\\_10000                                                                                                                                                                                                                                                                                                                                                                                                                                                                                                                                                                                                                                                                                                & had,a,great,couple,massage,located,in,a,cute,little,house,libby,and,emily,were,fantastic,thank,you,very,much,definitely,worth,the,visit,if,youre,debating,on,a,spa,try,carmel,day,spa,and,saloon,they,provide,a,lot,of,other,services,like,hair,nails,and,spa,stuff,im,a,guy,so,im,not,sure,about,those,services,not,sure,about,the,other,reviews,but,we,had,a,great,experience                                                                                                                                                                                                                                                                                                                           \\\\\n",
       "\t trn\\_10001                                                                                                                                                                                                                                                                                                                                                                                                                                                                                                                                                                                                                                                                                                & dr,wingard,has,been,my,primary,for,about,years,since,my,original,doctor,went,concierge,dr,wingard,is,top,notch,in,my,book,compared,to,most,doctors,in,las,vegas,he,knows,me,by,name,and,actually,listens,to,my,problemssymptoms,without,rushing,me,through,the,appointment,not,one,time,did,i,ever,leave,without,having,everything,addressed,even,when,i,asked,what,i,believed,was,a,stupid,question,he,made,me,feel,comfortable,and,better,informed,he,has,never,set,me,up,with,unnecessary,tests,and,i,never,felt,ripped,off,he,is,very,knowledgeable,and,up,to,date,the,only,downside,is,that,unless,its,an,emergency,appointments,can,take,weeks,but,unfortunately,thats,the,state,of,healthcare,today\\\\\n",
       "\\end{tabular}\n"
      ],
      "text/markdown": [
       "\n",
       "| trn_id | tokens |\n",
       "|---|---|\n",
       "| trn_1                                                                                                                                                                                                                                                                                                                                                                                                                                                                                                                                                                                                                                                                                                      | well,this,place,got,me,to,write,my,first,review,with,all,the,yelp,reviews,i,figured,it,would,be,a,good,taco,spot,so,my,wife,and,i,decided,to,stop,by,usually,a,place,that,has,that,price,range,like,puesto,in,san,diego,or,several,taco,food,trucks,in,la,they,have,amazing,tacos,maybe,it,was,a,bad,day,but,the,steak,and,the,chicken,tacos,i,had,were,way,over,cooked,and,honestly,only,tasted,like,the,sauce,you,chose,to,put,on,in,the,add,on,for,rice,and,beans,were,dollars,which,got,you,a,ketchup,cup,of,each,lol,my,wifes,tacos,were,a,little,bit,better,though,the,corn,tortillas,werent,the,greatest,either                                                                                     |\n",
       "| trn_10                                                                                                                                                                                                                                                                                                                                                                                                                                                                                                                                                                                                                                                                                                     | very,limited,menu,compared,to,regular,steak,n,shake,restaurants,and,restaurant,was,really,dirty,gross,never,going,again                                                                                                                                                                                                                                                                                                                                                                                                                                                                                                                                                                                    |\n",
       "| trn_100                                                                                                                                                                                                                                                                                                                                                                                                                                                                                                                                                                                                                                                                                                    | dont,be,fooled,by,the,entrance,this,place,is,quite,spacey,great,for,groups,for,ayce,dinner,off,if,you,pay,cah,my,favorite,items,here,are,sashimi,and,short,ribs,place,was,not,very,crowded,so,service,was,quick,and,efficient,oh,ya,and,they,got,chocolate,ice,cream,overall,nice,place,for,ayce,dinner                                                                                                                                                                                                                                                                                                                                                                                                    |\n",
       "| trn_1000                                                                                                                                                                                                                                                                                                                                                                                                                                                                                                                                                                                                                                                                                                   | we,had,outdoor,seating,which,was,really,hot,good,vibe,the,guy,talian,breadsticks,were,so,good                                                                                                                                                                                                                                                                                                                                                                                                                                                                                                                                                                                                              |\n",
       "| trn_10000                                                                                                                                                                                                                                                                                                                                                                                                                                                                                                                                                                                                                                                                                                  | had,a,great,couple,massage,located,in,a,cute,little,house,libby,and,emily,were,fantastic,thank,you,very,much,definitely,worth,the,visit,if,youre,debating,on,a,spa,try,carmel,day,spa,and,saloon,they,provide,a,lot,of,other,services,like,hair,nails,and,spa,stuff,im,a,guy,so,im,not,sure,about,those,services,not,sure,about,the,other,reviews,but,we,had,a,great,experience                                                                                                                                                                                                                                                                                                                            |\n",
       "| trn_10001                                                                                                                                                                                                                                                                                                                                                                                                                                                                                                                                                                                                                                                                                                  | dr,wingard,has,been,my,primary,for,about,years,since,my,original,doctor,went,concierge,dr,wingard,is,top,notch,in,my,book,compared,to,most,doctors,in,las,vegas,he,knows,me,by,name,and,actually,listens,to,my,problemssymptoms,without,rushing,me,through,the,appointment,not,one,time,did,i,ever,leave,without,having,everything,addressed,even,when,i,asked,what,i,believed,was,a,stupid,question,he,made,me,feel,comfortable,and,better,informed,he,has,never,set,me,up,with,unnecessary,tests,and,i,never,felt,ripped,off,he,is,very,knowledgeable,and,up,to,date,the,only,downside,is,that,unless,its,an,emergency,appointments,can,take,weeks,but,unfortunately,thats,the,state,of,healthcare,today |\n",
       "\n"
      ],
      "text/plain": [
       "  trn_id   \n",
       "1 trn_1    \n",
       "2 trn_10   \n",
       "3 trn_100  \n",
       "4 trn_1000 \n",
       "5 trn_10000\n",
       "6 trn_10001\n",
       "  tokens                                                                                                                                                                                                                                                                                                                                                                                                                                                                                                                                                                                                                                                                                                    \n",
       "1 well,this,place,got,me,to,write,my,first,review,with,all,the,yelp,reviews,i,figured,it,would,be,a,good,taco,spot,so,my,wife,and,i,decided,to,stop,by,usually,a,place,that,has,that,price,range,like,puesto,in,san,diego,or,several,taco,food,trucks,in,la,they,have,amazing,tacos,maybe,it,was,a,bad,day,but,the,steak,and,the,chicken,tacos,i,had,were,way,over,cooked,and,honestly,only,tasted,like,the,sauce,you,chose,to,put,on,in,the,add,on,for,rice,and,beans,were,dollars,which,got,you,a,ketchup,cup,of,each,lol,my,wifes,tacos,were,a,little,bit,better,though,the,corn,tortillas,werent,the,greatest,either                                                                                    \n",
       "2 very,limited,menu,compared,to,regular,steak,n,shake,restaurants,and,restaurant,was,really,dirty,gross,never,going,again                                                                                                                                                                                                                                                                                                                                                                                                                                                                                                                                                                                   \n",
       "3 dont,be,fooled,by,the,entrance,this,place,is,quite,spacey,great,for,groups,for,ayce,dinner,off,if,you,pay,cah,my,favorite,items,here,are,sashimi,and,short,ribs,place,was,not,very,crowded,so,service,was,quick,and,efficient,oh,ya,and,they,got,chocolate,ice,cream,overall,nice,place,for,ayce,dinner                                                                                                                                                                                                                                                                                                                                                                                                   \n",
       "4 we,had,outdoor,seating,which,was,really,hot,good,vibe,the,guy,talian,breadsticks,were,so,good                                                                                                                                                                                                                                                                                                                                                                                                                                                                                                                                                                                                             \n",
       "5 had,a,great,couple,massage,located,in,a,cute,little,house,libby,and,emily,were,fantastic,thank,you,very,much,definitely,worth,the,visit,if,youre,debating,on,a,spa,try,carmel,day,spa,and,saloon,they,provide,a,lot,of,other,services,like,hair,nails,and,spa,stuff,im,a,guy,so,im,not,sure,about,those,services,not,sure,about,the,other,reviews,but,we,had,a,great,experience                                                                                                                                                                                                                                                                                                                           \n",
       "6 dr,wingard,has,been,my,primary,for,about,years,since,my,original,doctor,went,concierge,dr,wingard,is,top,notch,in,my,book,compared,to,most,doctors,in,las,vegas,he,knows,me,by,name,and,actually,listens,to,my,problemssymptoms,without,rushing,me,through,the,appointment,not,one,time,did,i,ever,leave,without,having,everything,addressed,even,when,i,asked,what,i,believed,was,a,stupid,question,he,made,me,feel,comfortable,and,better,informed,he,has,never,set,me,up,with,unnecessary,tests,and,i,never,felt,ripped,off,he,is,very,knowledgeable,and,up,to,date,the,only,downside,is,that,unless,its,an,emergency,appointments,can,take,weeks,but,unfortunately,thats,the,state,of,healthcare,today"
      ]
     },
     "metadata": {},
     "output_type": "display_data"
    }
   ],
   "source": [
    "head(test)"
   ]
  },
  {
   "cell_type": "code",
   "execution_count": 10,
   "metadata": {},
   "outputs": [],
   "source": [
    "reviews_filtered <- test %>%\n",
    "  anti_join(stop_words, by= c(\"tokens\" = \"word\"))"
   ]
  },
  {
   "cell_type": "code",
   "execution_count": 11,
   "metadata": {},
   "outputs": [
    {
     "data": {
      "text/html": [
       "<ol class=list-inline>\n",
       "\t<li>24994</li>\n",
       "\t<li>2</li>\n",
       "</ol>\n"
      ],
      "text/latex": [
       "\\begin{enumerate*}\n",
       "\\item 24994\n",
       "\\item 2\n",
       "\\end{enumerate*}\n"
      ],
      "text/markdown": [
       "1. 24994\n",
       "2. 2\n",
       "\n",
       "\n"
      ],
      "text/plain": [
       "[1] 24994     2"
      ]
     },
     "metadata": {},
     "output_type": "display_data"
    }
   ],
   "source": [
    "dim(reviews_filtered)"
   ]
  },
  {
   "cell_type": "code",
   "execution_count": 12,
   "metadata": {},
   "outputs": [],
   "source": [
    "reviews_merged <- merge(reviews_filtered, head_label, by.x = \"trn_id\", by.y = \"trn_id\")"
   ]
  },
  {
   "cell_type": "code",
   "execution_count": 13,
   "metadata": {},
   "outputs": [
    {
     "data": {
      "text/html": [
       "<table>\n",
       "<thead><tr><th scope=col>trn_id</th><th scope=col>tokens</th><th scope=col>label</th></tr></thead>\n",
       "<tbody>\n",
       "\t<tr><td>trn_1                                                                                                                                                                                                                                                                                                                                                                                                                                                                                                                                                                                                                                                                                                     </td><td>well,this,place,got,me,to,write,my,first,review,with,all,the,yelp,reviews,i,figured,it,would,be,a,good,taco,spot,so,my,wife,and,i,decided,to,stop,by,usually,a,place,that,has,that,price,range,like,puesto,in,san,diego,or,several,taco,food,trucks,in,la,they,have,amazing,tacos,maybe,it,was,a,bad,day,but,the,steak,and,the,chicken,tacos,i,had,were,way,over,cooked,and,honestly,only,tasted,like,the,sauce,you,chose,to,put,on,in,the,add,on,for,rice,and,beans,were,dollars,which,got,you,a,ketchup,cup,of,each,lol,my,wifes,tacos,were,a,little,bit,better,though,the,corn,tortillas,werent,the,greatest,either                                                                                    </td><td>2                                                                                                                                                                                                                                                                                                                                                                                                                                                                                                                                                                                                                                                                                                         </td></tr>\n",
       "\t<tr><td>trn_10                                                                                                                                                                                                                                                                                                                                                                                                                                                                                                                                                                                                                                                                                                    </td><td>very,limited,menu,compared,to,regular,steak,n,shake,restaurants,and,restaurant,was,really,dirty,gross,never,going,again                                                                                                                                                                                                                                                                                                                                                                                                                                                                                                                                                                                   </td><td>1                                                                                                                                                                                                                                                                                                                                                                                                                                                                                                                                                                                                                                                                                                         </td></tr>\n",
       "\t<tr><td>trn_100                                                                                                                                                                                                                                                                                                                                                                                                                                                                                                                                                                                                                                                                                                   </td><td>dont,be,fooled,by,the,entrance,this,place,is,quite,spacey,great,for,groups,for,ayce,dinner,off,if,you,pay,cah,my,favorite,items,here,are,sashimi,and,short,ribs,place,was,not,very,crowded,so,service,was,quick,and,efficient,oh,ya,and,they,got,chocolate,ice,cream,overall,nice,place,for,ayce,dinner                                                                                                                                                                                                                                                                                                                                                                                                   </td><td>4                                                                                                                                                                                                                                                                                                                                                                                                                                                                                                                                                                                                                                                                                                         </td></tr>\n",
       "\t<tr><td>trn_1000                                                                                                                                                                                                                                                                                                                                                                                                                                                                                                                                                                                                                                                                                                  </td><td>we,had,outdoor,seating,which,was,really,hot,good,vibe,the,guy,talian,breadsticks,were,so,good                                                                                                                                                                                                                                                                                                                                                                                                                                                                                                                                                                                                             </td><td>4                                                                                                                                                                                                                                                                                                                                                                                                                                                                                                                                                                                                                                                                                                         </td></tr>\n",
       "\t<tr><td>trn_10000                                                                                                                                                                                                                                                                                                                                                                                                                                                                                                                                                                                                                                                                                                 </td><td>had,a,great,couple,massage,located,in,a,cute,little,house,libby,and,emily,were,fantastic,thank,you,very,much,definitely,worth,the,visit,if,youre,debating,on,a,spa,try,carmel,day,spa,and,saloon,they,provide,a,lot,of,other,services,like,hair,nails,and,spa,stuff,im,a,guy,so,im,not,sure,about,those,services,not,sure,about,the,other,reviews,but,we,had,a,great,experience                                                                                                                                                                                                                                                                                                                           </td><td>4                                                                                                                                                                                                                                                                                                                                                                                                                                                                                                                                                                                                                                                                                                         </td></tr>\n",
       "\t<tr><td>trn_10001                                                                                                                                                                                                                                                                                                                                                                                                                                                                                                                                                                                                                                                                                                 </td><td>dr,wingard,has,been,my,primary,for,about,years,since,my,original,doctor,went,concierge,dr,wingard,is,top,notch,in,my,book,compared,to,most,doctors,in,las,vegas,he,knows,me,by,name,and,actually,listens,to,my,problemssymptoms,without,rushing,me,through,the,appointment,not,one,time,did,i,ever,leave,without,having,everything,addressed,even,when,i,asked,what,i,believed,was,a,stupid,question,he,made,me,feel,comfortable,and,better,informed,he,has,never,set,me,up,with,unnecessary,tests,and,i,never,felt,ripped,off,he,is,very,knowledgeable,and,up,to,date,the,only,downside,is,that,unless,its,an,emergency,appointments,can,take,weeks,but,unfortunately,thats,the,state,of,healthcare,today</td><td>4                                                                                                                                                                                                                                                                                                                                                                                                                                                                                                                                                                                                                                                                                                         </td></tr>\n",
       "</tbody>\n",
       "</table>\n"
      ],
      "text/latex": [
       "\\begin{tabular}{r|lll}\n",
       " trn\\_id & tokens & label\\\\\n",
       "\\hline\n",
       "\t trn\\_1                                                                                                                                                                                                                                                                                                                                                                                                                                                                                                                                                                                                                                                                                                    & well,this,place,got,me,to,write,my,first,review,with,all,the,yelp,reviews,i,figured,it,would,be,a,good,taco,spot,so,my,wife,and,i,decided,to,stop,by,usually,a,place,that,has,that,price,range,like,puesto,in,san,diego,or,several,taco,food,trucks,in,la,they,have,amazing,tacos,maybe,it,was,a,bad,day,but,the,steak,and,the,chicken,tacos,i,had,were,way,over,cooked,and,honestly,only,tasted,like,the,sauce,you,chose,to,put,on,in,the,add,on,for,rice,and,beans,were,dollars,which,got,you,a,ketchup,cup,of,each,lol,my,wifes,tacos,were,a,little,bit,better,though,the,corn,tortillas,werent,the,greatest,either                                                                                     & 2                                                                                                                                                                                                                                                                                                                                                                                                                                                                                                                                                                                                                                                                                                         \\\\\n",
       "\t trn\\_10                                                                                                                                                                                                                                                                                                                                                                                                                                                                                                                                                                                                                                                                                                   & very,limited,menu,compared,to,regular,steak,n,shake,restaurants,and,restaurant,was,really,dirty,gross,never,going,again                                                                                                                                                                                                                                                                                                                                                                                                                                                                                                                                                                                    & 1                                                                                                                                                                                                                                                                                                                                                                                                                                                                                                                                                                                                                                                                                                         \\\\\n",
       "\t trn\\_100                                                                                                                                                                                                                                                                                                                                                                                                                                                                                                                                                                                                                                                                                                  & dont,be,fooled,by,the,entrance,this,place,is,quite,spacey,great,for,groups,for,ayce,dinner,off,if,you,pay,cah,my,favorite,items,here,are,sashimi,and,short,ribs,place,was,not,very,crowded,so,service,was,quick,and,efficient,oh,ya,and,they,got,chocolate,ice,cream,overall,nice,place,for,ayce,dinner                                                                                                                                                                                                                                                                                                                                                                                                    & 4                                                                                                                                                                                                                                                                                                                                                                                                                                                                                                                                                                                                                                                                                                         \\\\\n",
       "\t trn\\_1000                                                                                                                                                                                                                                                                                                                                                                                                                                                                                                                                                                                                                                                                                                 & we,had,outdoor,seating,which,was,really,hot,good,vibe,the,guy,talian,breadsticks,were,so,good                                                                                                                                                                                                                                                                                                                                                                                                                                                                                                                                                                                                              & 4                                                                                                                                                                                                                                                                                                                                                                                                                                                                                                                                                                                                                                                                                                         \\\\\n",
       "\t trn\\_10000                                                                                                                                                                                                                                                                                                                                                                                                                                                                                                                                                                                                                                                                                                & had,a,great,couple,massage,located,in,a,cute,little,house,libby,and,emily,were,fantastic,thank,you,very,much,definitely,worth,the,visit,if,youre,debating,on,a,spa,try,carmel,day,spa,and,saloon,they,provide,a,lot,of,other,services,like,hair,nails,and,spa,stuff,im,a,guy,so,im,not,sure,about,those,services,not,sure,about,the,other,reviews,but,we,had,a,great,experience                                                                                                                                                                                                                                                                                                                            & 4                                                                                                                                                                                                                                                                                                                                                                                                                                                                                                                                                                                                                                                                                                         \\\\\n",
       "\t trn\\_10001                                                                                                                                                                                                                                                                                                                                                                                                                                                                                                                                                                                                                                                                                                & dr,wingard,has,been,my,primary,for,about,years,since,my,original,doctor,went,concierge,dr,wingard,is,top,notch,in,my,book,compared,to,most,doctors,in,las,vegas,he,knows,me,by,name,and,actually,listens,to,my,problemssymptoms,without,rushing,me,through,the,appointment,not,one,time,did,i,ever,leave,without,having,everything,addressed,even,when,i,asked,what,i,believed,was,a,stupid,question,he,made,me,feel,comfortable,and,better,informed,he,has,never,set,me,up,with,unnecessary,tests,and,i,never,felt,ripped,off,he,is,very,knowledgeable,and,up,to,date,the,only,downside,is,that,unless,its,an,emergency,appointments,can,take,weeks,but,unfortunately,thats,the,state,of,healthcare,today & 4                                                                                                                                                                                                                                                                                                                                                                                                                                                                                                                                                                                                                                                                                                         \\\\\n",
       "\\end{tabular}\n"
      ],
      "text/markdown": [
       "\n",
       "| trn_id | tokens | label |\n",
       "|---|---|---|\n",
       "| trn_1                                                                                                                                                                                                                                                                                                                                                                                                                                                                                                                                                                                                                                                                                                      | well,this,place,got,me,to,write,my,first,review,with,all,the,yelp,reviews,i,figured,it,would,be,a,good,taco,spot,so,my,wife,and,i,decided,to,stop,by,usually,a,place,that,has,that,price,range,like,puesto,in,san,diego,or,several,taco,food,trucks,in,la,they,have,amazing,tacos,maybe,it,was,a,bad,day,but,the,steak,and,the,chicken,tacos,i,had,were,way,over,cooked,and,honestly,only,tasted,like,the,sauce,you,chose,to,put,on,in,the,add,on,for,rice,and,beans,were,dollars,which,got,you,a,ketchup,cup,of,each,lol,my,wifes,tacos,were,a,little,bit,better,though,the,corn,tortillas,werent,the,greatest,either                                                                                     | 2                                                                                                                                                                                                                                                                                                                                                                                                                                                                                                                                                                                                                                                                                                          |\n",
       "| trn_10                                                                                                                                                                                                                                                                                                                                                                                                                                                                                                                                                                                                                                                                                                     | very,limited,menu,compared,to,regular,steak,n,shake,restaurants,and,restaurant,was,really,dirty,gross,never,going,again                                                                                                                                                                                                                                                                                                                                                                                                                                                                                                                                                                                    | 1                                                                                                                                                                                                                                                                                                                                                                                                                                                                                                                                                                                                                                                                                                          |\n",
       "| trn_100                                                                                                                                                                                                                                                                                                                                                                                                                                                                                                                                                                                                                                                                                                    | dont,be,fooled,by,the,entrance,this,place,is,quite,spacey,great,for,groups,for,ayce,dinner,off,if,you,pay,cah,my,favorite,items,here,are,sashimi,and,short,ribs,place,was,not,very,crowded,so,service,was,quick,and,efficient,oh,ya,and,they,got,chocolate,ice,cream,overall,nice,place,for,ayce,dinner                                                                                                                                                                                                                                                                                                                                                                                                    | 4                                                                                                                                                                                                                                                                                                                                                                                                                                                                                                                                                                                                                                                                                                          |\n",
       "| trn_1000                                                                                                                                                                                                                                                                                                                                                                                                                                                                                                                                                                                                                                                                                                   | we,had,outdoor,seating,which,was,really,hot,good,vibe,the,guy,talian,breadsticks,were,so,good                                                                                                                                                                                                                                                                                                                                                                                                                                                                                                                                                                                                              | 4                                                                                                                                                                                                                                                                                                                                                                                                                                                                                                                                                                                                                                                                                                          |\n",
       "| trn_10000                                                                                                                                                                                                                                                                                                                                                                                                                                                                                                                                                                                                                                                                                                  | had,a,great,couple,massage,located,in,a,cute,little,house,libby,and,emily,were,fantastic,thank,you,very,much,definitely,worth,the,visit,if,youre,debating,on,a,spa,try,carmel,day,spa,and,saloon,they,provide,a,lot,of,other,services,like,hair,nails,and,spa,stuff,im,a,guy,so,im,not,sure,about,those,services,not,sure,about,the,other,reviews,but,we,had,a,great,experience                                                                                                                                                                                                                                                                                                                            | 4                                                                                                                                                                                                                                                                                                                                                                                                                                                                                                                                                                                                                                                                                                          |\n",
       "| trn_10001                                                                                                                                                                                                                                                                                                                                                                                                                                                                                                                                                                                                                                                                                                  | dr,wingard,has,been,my,primary,for,about,years,since,my,original,doctor,went,concierge,dr,wingard,is,top,notch,in,my,book,compared,to,most,doctors,in,las,vegas,he,knows,me,by,name,and,actually,listens,to,my,problemssymptoms,without,rushing,me,through,the,appointment,not,one,time,did,i,ever,leave,without,having,everything,addressed,even,when,i,asked,what,i,believed,was,a,stupid,question,he,made,me,feel,comfortable,and,better,informed,he,has,never,set,me,up,with,unnecessary,tests,and,i,never,felt,ripped,off,he,is,very,knowledgeable,and,up,to,date,the,only,downside,is,that,unless,its,an,emergency,appointments,can,take,weeks,but,unfortunately,thats,the,state,of,healthcare,today | 4                                                                                                                                                                                                                                                                                                                                                                                                                                                                                                                                                                                                                                                                                                          |\n",
       "\n"
      ],
      "text/plain": [
       "  trn_id   \n",
       "1 trn_1    \n",
       "2 trn_10   \n",
       "3 trn_100  \n",
       "4 trn_1000 \n",
       "5 trn_10000\n",
       "6 trn_10001\n",
       "  tokens                                                                                                                                                                                                                                                                                                                                                                                                                                                                                                                                                                                                                                                                                                    \n",
       "1 well,this,place,got,me,to,write,my,first,review,with,all,the,yelp,reviews,i,figured,it,would,be,a,good,taco,spot,so,my,wife,and,i,decided,to,stop,by,usually,a,place,that,has,that,price,range,like,puesto,in,san,diego,or,several,taco,food,trucks,in,la,they,have,amazing,tacos,maybe,it,was,a,bad,day,but,the,steak,and,the,chicken,tacos,i,had,were,way,over,cooked,and,honestly,only,tasted,like,the,sauce,you,chose,to,put,on,in,the,add,on,for,rice,and,beans,were,dollars,which,got,you,a,ketchup,cup,of,each,lol,my,wifes,tacos,were,a,little,bit,better,though,the,corn,tortillas,werent,the,greatest,either                                                                                    \n",
       "2 very,limited,menu,compared,to,regular,steak,n,shake,restaurants,and,restaurant,was,really,dirty,gross,never,going,again                                                                                                                                                                                                                                                                                                                                                                                                                                                                                                                                                                                   \n",
       "3 dont,be,fooled,by,the,entrance,this,place,is,quite,spacey,great,for,groups,for,ayce,dinner,off,if,you,pay,cah,my,favorite,items,here,are,sashimi,and,short,ribs,place,was,not,very,crowded,so,service,was,quick,and,efficient,oh,ya,and,they,got,chocolate,ice,cream,overall,nice,place,for,ayce,dinner                                                                                                                                                                                                                                                                                                                                                                                                   \n",
       "4 we,had,outdoor,seating,which,was,really,hot,good,vibe,the,guy,talian,breadsticks,were,so,good                                                                                                                                                                                                                                                                                                                                                                                                                                                                                                                                                                                                             \n",
       "5 had,a,great,couple,massage,located,in,a,cute,little,house,libby,and,emily,were,fantastic,thank,you,very,much,definitely,worth,the,visit,if,youre,debating,on,a,spa,try,carmel,day,spa,and,saloon,they,provide,a,lot,of,other,services,like,hair,nails,and,spa,stuff,im,a,guy,so,im,not,sure,about,those,services,not,sure,about,the,other,reviews,but,we,had,a,great,experience                                                                                                                                                                                                                                                                                                                           \n",
       "6 dr,wingard,has,been,my,primary,for,about,years,since,my,original,doctor,went,concierge,dr,wingard,is,top,notch,in,my,book,compared,to,most,doctors,in,las,vegas,he,knows,me,by,name,and,actually,listens,to,my,problemssymptoms,without,rushing,me,through,the,appointment,not,one,time,did,i,ever,leave,without,having,everything,addressed,even,when,i,asked,what,i,believed,was,a,stupid,question,he,made,me,feel,comfortable,and,better,informed,he,has,never,set,me,up,with,unnecessary,tests,and,i,never,felt,ripped,off,he,is,very,knowledgeable,and,up,to,date,the,only,downside,is,that,unless,its,an,emergency,appointments,can,take,weeks,but,unfortunately,thats,the,state,of,healthcare,today\n",
       "  label\n",
       "1 2    \n",
       "2 1    \n",
       "3 4    \n",
       "4 4    \n",
       "5 4    \n",
       "6 4    "
      ]
     },
     "metadata": {},
     "output_type": "display_data"
    }
   ],
   "source": [
    "head(reviews_merged)"
   ]
  },
  {
   "cell_type": "code",
   "execution_count": 14,
   "metadata": {},
   "outputs": [],
   "source": [
    "myCorpus <- Corpus(VectorSource(reviews_merged$tokens))"
   ]
  },
  {
   "cell_type": "code",
   "execution_count": 15,
   "metadata": {},
   "outputs": [
    {
     "data": {
      "text/plain": [
       "<<DocumentTermMatrix (documents: 24994, terms: 47379)>>\n",
       "Non-/sparse entries: 1541361/1182649365\n",
       "Sparsity           : 100%\n",
       "Maximal term length: 105\n",
       "Weighting          : term frequency - inverse document frequency (tf-idf)"
      ]
     },
     "metadata": {},
     "output_type": "display_data"
    }
   ],
   "source": [
    "dtm = DocumentTermMatrix(myCorpus,control = list(weighting = function(x) weightTfIdf(x, normalize = FALSE)))\n",
    "dtm"
   ]
  },
  {
   "cell_type": "code",
   "execution_count": 16,
   "metadata": {},
   "outputs": [],
   "source": [
    "dtm_train <- reviews_merged[1:20000, ]\n",
    "dtm_test <- reviews_merged[20001:24994, ]"
   ]
  },
  {
   "cell_type": "code",
   "execution_count": 18,
   "metadata": {},
   "outputs": [],
   "source": [
    "library(e1071)"
   ]
  },
  {
   "cell_type": "code",
   "execution_count": 27,
   "metadata": {},
   "outputs": [],
   "source": [
    "model <- naiveBayes(label~., data=dtm_train)"
   ]
  },
  {
   "cell_type": "code",
   "execution_count": 26,
   "metadata": {},
   "outputs": [],
   "source": [
    "predicted <- predict(model, newdata=dtm_test)"
   ]
  },
  {
   "cell_type": "code",
   "execution_count": 24,
   "metadata": {},
   "outputs": [],
   "source": [
    "library(gmodels)"
   ]
  },
  {
   "cell_type": "code",
   "execution_count": 25,
   "metadata": {},
   "outputs": [
    {
     "ename": "ERROR",
     "evalue": "Error in CrossTable(predicted, dtm_test$label, prop.chisq = FALSE, chisq = FALSE, : x and y must have the same length\n",
     "output_type": "error",
     "traceback": [
      "Error in CrossTable(predicted, dtm_test$label, prop.chisq = FALSE, chisq = FALSE, : x and y must have the same length\nTraceback:\n",
      "1. CrossTable(predicted, dtm_test$label, prop.chisq = FALSE, chisq = FALSE, \n .     prop.t = FALSE, dnn = c(\"Predicted\", \"Actual\"))",
      "2. stop(\"x and y must have the same length\")"
     ]
    }
   ],
   "source": [
    "CrossTable(predicted, dtm_test$label, prop.chisq = FALSE, chisq = FALSE, \n",
    "           prop.t = FALSE,\n",
    "           dnn = c(\"Predicted\", \"Actual\"))"
   ]
  },
  {
   "cell_type": "code",
   "execution_count": null,
   "metadata": {},
   "outputs": [],
   "source": []
  }
 ],
 "metadata": {
  "kernelspec": {
   "display_name": "R",
   "language": "R",
   "name": "ir"
  },
  "language_info": {
   "codemirror_mode": "r",
   "file_extension": ".r",
   "mimetype": "text/x-r-source",
   "name": "R",
   "pygments_lexer": "r",
   "version": "3.5.1"
  }
 },
 "nbformat": 4,
 "nbformat_minor": 2
}
